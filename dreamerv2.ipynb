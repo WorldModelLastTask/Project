{
 "cells": [
  {
   "cell_type": "code",
   "execution_count": 1,
   "metadata": {},
   "outputs": [
    {
     "name": "stderr",
     "output_type": "stream",
     "text": [
      "2024-01-25 14:34:35.797754: I tensorflow/core/platform/cpu_feature_guard.cc:182] This TensorFlow binary is optimized to use available CPU instructions in performance-critical operations.\n",
      "To enable the following instructions: AVX2 FMA, in other operations, rebuild TensorFlow with the appropriate compiler flags.\n",
      "2024-01-25 14:34:42.210403: W tensorflow/compiler/tf2tensorrt/utils/py_utils.cc:38] TF-TRT Warning: Could not find TensorRT\n",
      "/home/nkmur/anaconda3/envs/web_con/lib/python3.8/site-packages/tqdm/auto.py:21: TqdmWarning: IProgress not found. Please update jupyter and ipywidgets. See https://ipywidgets.readthedocs.io/en/stable/user_install.html\n",
      "  from .autonotebook import tqdm as notebook_tqdm\n",
      "/home/nkmur/anaconda3/envs/web_con/lib/python3.8/site-packages/huggingface_hub/utils/_runtime.py:184: UserWarning: Pydantic is installed but cannot be imported. Please check your installation. `huggingface_hub` will default to not using Pydantic. Error message: '{e}'\n",
      "  warnings.warn(\n"
     ]
    }
   ],
   "source": [
    "from env import *\n",
    "set_seed(1234)"
   ]
  },
  {
   "cell_type": "code",
   "execution_count": 2,
   "metadata": {},
   "outputs": [],
   "source": [
    "# import sys\n",
    "# sys.path.insert(0,\"/home/nkmur/lab/web_con/matsuo/Project/Dreamer/0109/dreamerv2\")\n",
    "# !pip uninstall -y dreamerv2\n",
    "# !pip install -e ./dreamerv2/dreamerv2 -U\n",
    "import dreamerv2\n",
    "from dreamerv2.training.trainer import Trainer\n",
    "from dreamerv2.training.evaluator import Evaluator"
   ]
  },
  {
   "cell_type": "code",
   "execution_count": 3,
   "metadata": {},
   "outputs": [],
   "source": [
    "class Args:\n",
    "    action_types = [\n",
    "            # ActionTypes.NONE,\n",
    "            ActionTypes.MOVE_COORDS,\n",
    "            ActionTypes.CLICK_COORDS,\n",
    "            # ActionTypes.DBLCLICK_COORDS,\n",
    "            # ActionTypes.MOUSEDOWN_COORDS,\n",
    "            # ActionTypes.MOUSEUP_COORDS,\n",
    "            # ActionTypes.SCROLL_UP_COORDS,\n",
    "            # ActionTypes.SCROLL_DOWN_COORDS,\n",
    "        ] \n",
    "    action_types_num = len(action_types)\n",
    "    screen_width, screen_height = 80, 80\n",
    "    coord_bins = (51, 51)\n",
    "    max_length = 500\n",
    "    env_list = [\n",
    "        \"click-test-v1\",\n",
    "        \"click-test-2-v1\",\n",
    "        \"click-button-sequence-v1\",\n",
    "        \"click-button-v1\",\n",
    "        # \"click-link-v1\",\n",
    "        # \"click-tab-v1\",\n",
    "        # \"click-tab-2-easy\"\n",
    "        # \"click-tab-v1-medium\",\n",
    "        # \"click-tab-v1-hard\",\n",
    "        \n",
    "        \"click-option-v1\",\n",
    "        \"click-checkboxes-v1\",\n",
    "        \"click-widget-v1\",\n",
    "    ]\n",
    "    step_limit = 10\n",
    "    seed_fix = True\n",
    "    device = \"cuda\"\n",
    "    batch_size = 40\n",
    "    seq_len = 5\n",
    "    accumulated_loss = 4\n",
    "    tokenizer_name = \"microsoft/deberta-v3-base\"\n",
    "args = Args()"
   ]
  },
  {
   "cell_type": "code",
   "execution_count": 4,
   "metadata": {},
   "outputs": [
    {
     "name": "stdout",
     "output_type": "stream",
     "text": [
      "using : cuda\n"
     ]
    }
   ],
   "source": [
    "import argparse\n",
    "import os\n",
    "import torch\n",
    "import numpy as np\n",
    "import gym\n",
    "from datetime import datetime\n",
    "from dreamerv2.training.config import MiniWoBConfig\n",
    "from dreamerv2.training.trainer import Trainer\n",
    "from dreamerv2.training.evaluator import Evaluator\n",
    "from torch.utils.tensorboard import SummaryWriter\n",
    "logging.getLogger().setLevel(logging.ERROR)\n",
    "\n",
    "env_list = args.env_list                                               \n",
    "\n",
    "if torch.cuda.is_available() and args.device:\n",
    "    device = torch.device('cuda')\n",
    "else:\n",
    "    device = torch.device('cpu')\n",
    "print('using :', device)  \n",
    "\n",
    "vec_envs = VecEnvs(env_list, \n",
    "                action_types=args.action_types, coord_bins=args.coord_bins, max_length=args.max_length,\n",
    "                screen_width=args.screen_width, screen_height=args.screen_height, \n",
    "                step_limit=args.step_limit, seed_fix=args.seed_fix,tokenizer_name=args.tokenizer_name)\n",
    "obs_shape = np.array(vec_envs.vec_envs[0].observation_space.shape)[::-1]\n",
    "act_shape = vec_envs.vec_envs[0].action_space.nvec\n",
    "action_size = vec_envs.vec_envs[0].action_space.shape[0]\n",
    "\n",
    "obs_dtype = np.float32\n",
    "action_dtype = np.uint8\n",
    "batch_size = args.batch_size\n",
    "seq_len = args.seq_len"
   ]
  },
  {
   "cell_type": "code",
   "execution_count": null,
   "metadata": {},
   "outputs": [],
   "source": []
  },
  {
   "cell_type": "code",
   "execution_count": 5,
   "metadata": {},
   "outputs": [
    {
     "name": "stdout",
     "output_type": "stream",
     "text": [
      "Load from checkpoint /home/nkmur/lab/web_con/matsuo/Project/Dreamer/0113/results/0123_1534/, restart from 10000\n"
     ]
    }
   ],
   "source": [
    "\n",
    "'''make dir for saving results'''\n",
    "# chkpt_path = \"/home/nkmur/lab/web_con/matsuo/Project/Dreamer/0113/results/0123_1534/\"\n",
    "chkpt_path = None\n",
    "time = datetime.now().strftime(\"%m%d_%H%M\")\n",
    "if chkpt_path:\n",
    "    result_dir = chkpt_path\n",
    "else:\n",
    "    result_dir = os.path.join('results', '{}'.format(time))\n",
    "model_dir = os.path.join(result_dir, 'models')                                                  #dir to save learnt models\n",
    "os.makedirs(model_dir, exist_ok=True)  \n",
    "if args.tokenizer_name == \"microsoft/deberta-v3-base\":\n",
    "    nl_embedding_size = 768\n",
    "elif args.tokenizer_name == \"microsoft/deberta-v3-xsmalll\":\n",
    "    nl_embedding_size = 384\n",
    "    \n",
    "config = MiniWoBConfig(\n",
    "    env_list=env_list,\n",
    "    obs_shape=obs_shape,\n",
    "    act_shape=act_shape,\n",
    "    action_size=action_size,\n",
    "    max_length=args.max_length,\n",
    "    obs_dtype = obs_dtype,\n",
    "    action_dtype = action_dtype,\n",
    "    seq_len = args.seq_len,\n",
    "    batch_size = args.batch_size,\n",
    "    model_dir=model_dir, \n",
    "    nl_embedding_size=nl_embedding_size,\n",
    "    capacity=8*10**3,\n",
    "    seed_steps=10**2,\n",
    "    train_steps=2*10**4,\n",
    "    # seed_steps=25,\n",
    "    # train_steps = 20,\n",
    "    train_every=10,\n",
    "    eval_episode=1,\n",
    "    save_every=10**3,\n",
    "    # save_every=10,\n",
    "    step_limit=args.step_limit,\n",
    "    accumulated_loss = args.accumulated_loss,\n",
    "    tokenizer_name=args.tokenizer_name,\n",
    ")\n",
    "if chkpt_path:\n",
    "    # import pickle\n",
    "    # with open(os.path.join(result_dir, 'config.pkl'), 'rb') as f:\n",
    "    #     pickle.load(config, f)\n",
    "    config_dict = config.__dict__\n",
    "    trainer = Trainer(config, device, writer=None)\n",
    "    evaluator = Evaluator(config, device, writer=None)\n",
    "    restart_iter = trainer.restart_from_checkpoint(chkpt_path+\"models/models_latest.pth\")\n",
    "    trainer.buffer.load(chkpt_path+\"models/models_latest\")\n",
    "    # for i in range(len(env_list)):\n",
    "    #     trainer.buffer.buffers[i].capacity = 4000\n",
    "    #     trainer.buffer.buffers[i].idx = 0\n",
    "    #     trainer.buffer.buffers[i].full = True\n",
    "    #     trainer.buffer.buffers[i].observation = trainer.buffer.buffers[i].observation[:4000]\n",
    "    #     trainer.buffer.buffers[i].action = trainer.buffer.buffers[i].action[:4000].astype(np.uint8)\n",
    "    #     trainer.buffer.buffers[i].reward = trainer.buffer.buffers[i].reward[:4000].astype(np.int8)\n",
    "    #     trainer.buffer.buffers[i].terminal = trainer.buffer.buffers[i].terminal[:4000]\n",
    "    #     trainer.buffer.buffers[i].nl_obs_idx = trainer.buffer.buffers[i].nl_obs_idx[:4000].astype(np.uint8)\n",
    "    #     gc.collect()\n",
    "    writer = SummaryWriter(chkpt_path, purge_step=restart_iter)\n",
    "    trainer.writer = writer\n",
    "    evaluator.writer = writer\n",
    "    print(f\"Load from checkpoint {chkpt_path}, restart from {restart_iter}\")\n",
    "else:\n",
    "    config_dict = config.__dict__\n",
    "    with open(os.path.join(result_dir, 'config.txt'), 'w') as f:\n",
    "        for k, v in config_dict.items():\n",
    "            f.write('{}: {}\\n'.format(k, v))\n",
    "    \n",
    "    restart_iter = 0\n",
    "    writer = SummaryWriter(result_dir)   \n",
    "    trainer = Trainer(config, device, writer)\n",
    "    evaluator = Evaluator(config, device, writer)\n",
    "    trainer.collect_seed_episodes(vec_envs)"
   ]
  },
  {
   "cell_type": "code",
   "execution_count": 6,
   "metadata": {},
   "outputs": [
    {
     "data": {
      "text/plain": [
       "768"
      ]
     },
     "execution_count": 6,
     "metadata": {},
     "output_type": "execute_result"
    }
   ],
   "source": [
    "config.nl_embedding_size"
   ]
  },
  {
   "cell_type": "code",
   "execution_count": 7,
   "metadata": {},
   "outputs": [
    {
     "name": "stdout",
     "output_type": "stream",
     "text": [
      "...training...\n"
     ]
    }
   ],
   "source": [
    "\"\"\"training loop\"\"\"\n",
    "print('...training...')\n",
    "train_metrics = {}\n",
    "prev_rssmstate = trainer.RSSM._init_rssm_state(len(env_list))\n",
    "prev_action = torch.zeros(len(env_list), trainer.action_size).to(trainer.device)\n",
    "episode_actor_ent = [[] for _ in range(len(env_list))]\n",
    "score = [0 for _ in range(len(env_list))]\n",
    "scores = [[] for _ in range(len(env_list))]\n",
    "best_mean_score = -np.inf\n",
    "train_episodes = 0\n",
    "best_save_path = os.path.join(model_dir, 'models_best.pth')"
   ]
  },
  {
   "cell_type": "code",
   "execution_count": 8,
   "metadata": {},
   "outputs": [],
   "source": [
    "train_metrics['train_rewards'] = [0 for _ in range(len(env_list))]\n",
    "train_metrics['action_ent'] = [[] for _ in range(len(env_list))]\n",
    "train_metrics['train_steps'] = [[] for _ in range(len(env_list))]"
   ]
  },
  {
   "cell_type": "code",
   "execution_count": 9,
   "metadata": {},
   "outputs": [
    {
     "name": "stderr",
     "output_type": "stream",
     "text": [
      "training_steps:   2%|▏         | 207/9999 [15:46<9:17:27,  3.42s/it] "
     ]
    },
    {
     "name": "stdout",
     "output_type": "stream",
     "text": [
      "saving best model with mean score :  0.08093194359288777\n"
     ]
    },
    {
     "name": "stderr",
     "output_type": "stream",
     "text": [
      "training_steps:  10%|█         | 1038/9999 [1:22:13<8:19:55,  3.35s/it] "
     ]
    },
    {
     "name": "stdout",
     "output_type": "stream",
     "text": [
      "saving best model with mean score :  0.41\n"
     ]
    },
    {
     "name": "stderr",
     "output_type": "stream",
     "text": [
      "training_steps:  10%|█         | 1046/9999 [1:23:06<9:35:03,  3.85s/it] "
     ]
    },
    {
     "name": "stdout",
     "output_type": "stream",
     "text": [
      "saving best model with mean score :  0.4114285714285714\n"
     ]
    },
    {
     "name": "stderr",
     "output_type": "stream",
     "text": [
      "training_steps:  11%|█         | 1064/9999 [1:24:49<11:17:02,  4.55s/it]"
     ]
    },
    {
     "name": "stdout",
     "output_type": "stream",
     "text": [
      "saving best model with mean score :  0.41285714285714287\n"
     ]
    },
    {
     "name": "stderr",
     "output_type": "stream",
     "text": [
      "training_steps:  11%|█         | 1068/9999 [1:25:12<11:23:38,  4.59s/it]"
     ]
    },
    {
     "name": "stdout",
     "output_type": "stream",
     "text": [
      "saving best model with mean score :  0.4142857142857143\n"
     ]
    },
    {
     "name": "stderr",
     "output_type": "stream",
     "text": [
      "training_steps:  11%|█         | 1074/9999 [1:26:00<12:57:42,  5.23s/it]"
     ]
    },
    {
     "name": "stdout",
     "output_type": "stream",
     "text": [
      "saving best model with mean score :  0.4157142857142857\n"
     ]
    },
    {
     "name": "stderr",
     "output_type": "stream",
     "text": [
      "training_steps:  11%|█         | 1087/9999 [1:27:13<9:27:01,  3.82s/it] "
     ]
    },
    {
     "name": "stdout",
     "output_type": "stream",
     "text": [
      "saving best model with mean score :  0.41714285714285715\n"
     ]
    },
    {
     "name": "stderr",
     "output_type": "stream",
     "text": [
      "training_steps:  11%|█         | 1094/9999 [1:28:07<12:42:07,  5.14s/it]"
     ]
    },
    {
     "name": "stdout",
     "output_type": "stream",
     "text": [
      "saving best model with mean score :  0.4185714285714286\n"
     ]
    },
    {
     "name": "stderr",
     "output_type": "stream",
     "text": [
      "training_steps:  11%|█         | 1104/9999 [1:29:07<11:48:12,  4.78s/it]"
     ]
    },
    {
     "name": "stdout",
     "output_type": "stream",
     "text": [
      "saving best model with mean score :  0.42\n"
     ]
    },
    {
     "name": "stderr",
     "output_type": "stream",
     "text": [
      "training_steps:  11%|█         | 1114/9999 [1:30:07<11:50:20,  4.80s/it]"
     ]
    },
    {
     "name": "stdout",
     "output_type": "stream",
     "text": [
      "saving best model with mean score :  0.42142857142857143\n"
     ]
    },
    {
     "name": "stderr",
     "output_type": "stream",
     "text": [
      "training_steps:  11%|█         | 1118/9999 [1:30:30<11:23:40,  4.62s/it]"
     ]
    },
    {
     "name": "stdout",
     "output_type": "stream",
     "text": [
      "saving best model with mean score :  0.4228571428571429\n"
     ]
    },
    {
     "name": "stderr",
     "output_type": "stream",
     "text": [
      "training_steps:  11%|█▏        | 1135/9999 [1:32:09<10:16:48,  4.18s/it]"
     ]
    },
    {
     "name": "stdout",
     "output_type": "stream",
     "text": [
      "saving best model with mean score :  0.42714285714285716\n"
     ]
    },
    {
     "name": "stderr",
     "output_type": "stream",
     "text": [
      "training_steps:  11%|█▏        | 1145/9999 [1:33:14<10:42:53,  4.36s/it]"
     ]
    },
    {
     "name": "stdout",
     "output_type": "stream",
     "text": [
      "saving best model with mean score :  0.42857142857142855\n"
     ]
    },
    {
     "name": "stderr",
     "output_type": "stream",
     "text": [
      "training_steps:  12%|█▏        | 1158/9999 [1:34:24<8:48:21,  3.59s/it] "
     ]
    },
    {
     "name": "stdout",
     "output_type": "stream",
     "text": [
      "saving best model with mean score :  0.43\n"
     ]
    },
    {
     "name": "stderr",
     "output_type": "stream",
     "text": [
      "training_steps:  12%|█▏        | 1163/9999 [1:35:07<14:01:24,  5.71s/it]"
     ]
    },
    {
     "name": "stdout",
     "output_type": "stream",
     "text": [
      "saving best model with mean score :  0.43142857142857144\n"
     ]
    },
    {
     "name": "stderr",
     "output_type": "stream",
     "text": [
      "training_steps:  12%|█▏        | 1215/9999 [1:39:32<10:08:41,  4.16s/it]"
     ]
    },
    {
     "name": "stdout",
     "output_type": "stream",
     "text": [
      "saving best model with mean score :  0.4328571428571429\n"
     ]
    },
    {
     "name": "stderr",
     "output_type": "stream",
     "text": [
      "training_steps:  14%|█▍        | 1381/9999 [1:53:19<16:07:51,  6.74s/it]"
     ]
    },
    {
     "name": "stdout",
     "output_type": "stream",
     "text": [
      "saving best model with mean score :  0.4342857142857143\n"
     ]
    },
    {
     "name": "stderr",
     "output_type": "stream",
     "text": [
      "training_steps:  14%|█▍        | 1397/9999 [1:54:35<8:50:52,  3.70s/it] "
     ]
    },
    {
     "name": "stdout",
     "output_type": "stream",
     "text": [
      "saving best model with mean score :  0.4357142857142857\n"
     ]
    },
    {
     "name": "stderr",
     "output_type": "stream",
     "text": [
      "training_steps:  14%|█▍        | 1407/9999 [1:55:35<9:12:59,  3.86s/it] "
     ]
    },
    {
     "name": "stdout",
     "output_type": "stream",
     "text": [
      "saving best model with mean score :  0.43714285714285717\n"
     ]
    },
    {
     "name": "stderr",
     "output_type": "stream",
     "text": [
      "training_steps:  14%|█▍        | 1435/9999 [1:58:06<9:38:59,  4.06s/it] "
     ]
    },
    {
     "name": "stdout",
     "output_type": "stream",
     "text": [
      "saving best model with mean score :  0.43857142857142856\n"
     ]
    },
    {
     "name": "stderr",
     "output_type": "stream",
     "text": [
      "training_steps:  14%|█▍        | 1444/9999 [1:59:04<11:33:06,  4.86s/it]"
     ]
    },
    {
     "name": "stdout",
     "output_type": "stream",
     "text": [
      "saving best model with mean score :  0.44142857142857145\n"
     ]
    },
    {
     "name": "stderr",
     "output_type": "stream",
     "text": [
      "training_steps:  14%|█▍        | 1448/9999 [1:59:30<11:53:44,  5.01s/it]"
     ]
    },
    {
     "name": "stdout",
     "output_type": "stream",
     "text": [
      "saving best model with mean score :  0.44285714285714284\n"
     ]
    },
    {
     "name": "stderr",
     "output_type": "stream",
     "text": [
      "training_steps:  15%|█▍        | 1454/9999 [2:00:22<13:13:58,  5.57s/it]"
     ]
    },
    {
     "name": "stdout",
     "output_type": "stream",
     "text": [
      "saving best model with mean score :  0.4442857142857143\n"
     ]
    },
    {
     "name": "stderr",
     "output_type": "stream",
     "text": [
      "training_steps:  15%|█▍        | 1465/9999 [2:01:23<10:06:52,  4.27s/it]"
     ]
    },
    {
     "name": "stdout",
     "output_type": "stream",
     "text": [
      "saving best model with mean score :  0.4471428571428571\n"
     ]
    },
    {
     "name": "stderr",
     "output_type": "stream",
     "text": [
      "training_steps:  15%|█▌        | 1515/9999 [2:05:39<9:35:47,  4.07s/it] "
     ]
    },
    {
     "name": "stdout",
     "output_type": "stream",
     "text": [
      "saving best model with mean score :  0.45\n"
     ]
    },
    {
     "name": "stderr",
     "output_type": "stream",
     "text": [
      "training_steps:  15%|█▌        | 1542/9999 [2:08:06<13:33:22,  5.77s/it]"
     ]
    },
    {
     "name": "stdout",
     "output_type": "stream",
     "text": [
      "saving best model with mean score :  0.45285714285714285\n"
     ]
    },
    {
     "name": "stderr",
     "output_type": "stream",
     "text": [
      "training_steps:  15%|█▌        | 1548/9999 [2:08:40<10:09:39,  4.33s/it]"
     ]
    },
    {
     "name": "stdout",
     "output_type": "stream",
     "text": [
      "saving best model with mean score :  0.4542857142857143\n"
     ]
    },
    {
     "name": "stderr",
     "output_type": "stream",
     "text": [
      "training_steps:  16%|█▌        | 1552/9999 [2:09:23<17:05:17,  7.28s/it]"
     ]
    },
    {
     "name": "stdout",
     "output_type": "stream",
     "text": [
      "saving best model with mean score :  0.45571428571428574\n"
     ]
    },
    {
     "name": "stderr",
     "output_type": "stream",
     "text": [
      "training_steps:  16%|█▌        | 1557/9999 [2:09:51<11:26:25,  4.88s/it]"
     ]
    },
    {
     "name": "stdout",
     "output_type": "stream",
     "text": [
      "saving best model with mean score :  0.45714285714285713\n"
     ]
    },
    {
     "name": "stderr",
     "output_type": "stream",
     "text": [
      "training_steps:  16%|█▌        | 1566/9999 [2:10:50<9:39:12,  4.12s/it] "
     ]
    },
    {
     "name": "stdout",
     "output_type": "stream",
     "text": [
      "saving best model with mean score :  0.4585714285714286\n"
     ]
    },
    {
     "name": "stderr",
     "output_type": "stream",
     "text": [
      "training_steps:  16%|█▌        | 1575/9999 [2:11:50<10:28:59,  4.48s/it]"
     ]
    },
    {
     "name": "stdout",
     "output_type": "stream",
     "text": [
      "saving best model with mean score :  0.46\n"
     ]
    },
    {
     "name": "stderr",
     "output_type": "stream",
     "text": [
      "training_steps:  16%|█▌        | 1582/9999 [2:12:46<14:58:32,  6.41s/it]"
     ]
    },
    {
     "name": "stdout",
     "output_type": "stream",
     "text": [
      "saving best model with mean score :  0.4614285714285714\n"
     ]
    },
    {
     "name": "stderr",
     "output_type": "stream",
     "text": [
      "training_steps:  16%|█▌        | 1594/9999 [2:13:58<11:08:56,  4.78s/it]"
     ]
    },
    {
     "name": "stdout",
     "output_type": "stream",
     "text": [
      "saving best model with mean score :  0.46285714285714286\n"
     ]
    },
    {
     "name": "stderr",
     "output_type": "stream",
     "text": [
      "training_steps:  16%|█▋        | 1626/9999 [2:16:42<8:53:42,  3.82s/it] "
     ]
    },
    {
     "name": "stdout",
     "output_type": "stream",
     "text": [
      "saving best model with mean score :  0.4642857142857143\n"
     ]
    },
    {
     "name": "stderr",
     "output_type": "stream",
     "text": [
      "training_steps:  17%|█▋        | 1655/9999 [2:19:17<9:41:05,  4.18s/it] "
     ]
    },
    {
     "name": "stdout",
     "output_type": "stream",
     "text": [
      "saving best model with mean score :  0.4657142857142857\n"
     ]
    },
    {
     "name": "stderr",
     "output_type": "stream",
     "text": [
      "training_steps:  17%|█▋        | 1672/9999 [2:20:58<13:19:29,  5.76s/it]"
     ]
    },
    {
     "name": "stdout",
     "output_type": "stream",
     "text": [
      "saving best model with mean score :  0.4714285714285714\n"
     ]
    },
    {
     "name": "stderr",
     "output_type": "stream",
     "text": [
      "training_steps:  17%|█▋        | 1676/9999 [2:21:24<11:53:40,  5.14s/it]"
     ]
    },
    {
     "name": "stdout",
     "output_type": "stream",
     "text": [
      "saving best model with mean score :  0.4742857142857143\n"
     ]
    },
    {
     "name": "stderr",
     "output_type": "stream",
     "text": [
      "training_steps:  17%|█▋        | 1687/9999 [2:22:31<8:46:07,  3.80s/it] "
     ]
    },
    {
     "name": "stdout",
     "output_type": "stream",
     "text": [
      "saving best model with mean score :  0.4757142857142857\n"
     ]
    },
    {
     "name": "stderr",
     "output_type": "stream",
     "text": [
      "training_steps:  17%|█▋        | 1698/9999 [2:23:34<8:39:02,  3.75s/it] "
     ]
    },
    {
     "name": "stdout",
     "output_type": "stream",
     "text": [
      "saving best model with mean score :  0.4785714285714286\n"
     ]
    },
    {
     "name": "stderr",
     "output_type": "stream",
     "text": [
      "training_steps:  17%|█▋        | 1702/9999 [2:24:13<14:48:09,  6.42s/it]"
     ]
    },
    {
     "name": "stdout",
     "output_type": "stream",
     "text": [
      "saving best model with mean score :  0.48\n"
     ]
    },
    {
     "name": "stderr",
     "output_type": "stream",
     "text": [
      "training_steps:  17%|█▋        | 1713/9999 [2:25:16<11:46:01,  5.11s/it]"
     ]
    },
    {
     "name": "stdout",
     "output_type": "stream",
     "text": [
      "saving best model with mean score :  0.48142857142857143\n"
     ]
    },
    {
     "name": "stderr",
     "output_type": "stream",
     "text": [
      "training_steps:  17%|█▋        | 1735/9999 [2:27:13<9:39:22,  4.21s/it] "
     ]
    },
    {
     "name": "stdout",
     "output_type": "stream",
     "text": [
      "saving best model with mean score :  0.4857142857142857\n"
     ]
    },
    {
     "name": "stderr",
     "output_type": "stream",
     "text": [
      "training_steps:  18%|█▊        | 1755/9999 [2:28:59<8:51:27,  3.87s/it] "
     ]
    },
    {
     "name": "stdout",
     "output_type": "stream",
     "text": [
      "saving best model with mean score :  0.48714285714285716\n"
     ]
    },
    {
     "name": "stderr",
     "output_type": "stream",
     "text": [
      "training_steps:  18%|█▊        | 1765/9999 [2:29:57<9:08:16,  4.00s/it] "
     ]
    },
    {
     "name": "stdout",
     "output_type": "stream",
     "text": [
      "saving best model with mean score :  0.48857142857142855\n"
     ]
    },
    {
     "name": "stderr",
     "output_type": "stream",
     "text": [
      "training_steps:  18%|█▊        | 1781/9999 [2:31:34<15:37:27,  6.84s/it]"
     ]
    },
    {
     "name": "stdout",
     "output_type": "stream",
     "text": [
      "saving best model with mean score :  0.49\n"
     ]
    },
    {
     "name": "stderr",
     "output_type": "stream",
     "text": [
      "training_steps:  18%|█▊        | 1785/9999 [2:31:58<11:59:27,  5.26s/it]"
     ]
    },
    {
     "name": "stdout",
     "output_type": "stream",
     "text": [
      "saving best model with mean score :  0.4928571428571429\n"
     ]
    },
    {
     "name": "stderr",
     "output_type": "stream",
     "text": [
      "training_steps:  68%|██████▊   | 6786/9999 [9:07:37<3:25:43,  3.84s/it] "
     ]
    },
    {
     "name": "stdout",
     "output_type": "stream",
     "text": [
      "saving best model with mean score :  0.4957142857142857\n"
     ]
    },
    {
     "name": "stderr",
     "output_type": "stream",
     "text": [
      "training_steps:  68%|██████▊   | 6796/9999 [9:08:39<3:34:36,  4.02s/it]"
     ]
    },
    {
     "name": "stdout",
     "output_type": "stream",
     "text": [
      "saving best model with mean score :  0.49714285714285716\n"
     ]
    },
    {
     "name": "stderr",
     "output_type": "stream",
     "text": [
      "training_steps: 100%|██████████| 9999/9999 [13:02:16<00:00,  4.69s/it]   \n"
     ]
    },
    {
     "name": "stdout",
     "output_type": "stream",
     "text": [
      "average evaluation score for model at /home/nkmur/lab/web_con/matsuo/Project/Dreamer/0113/results/0123_1534/models/models_best.pth = 0.5714285714285714\n"
     ]
    },
    {
     "data": {
      "text/plain": [
       "0.5714285714285714"
      ]
     },
     "execution_count": 9,
     "metadata": {},
     "output_type": "execute_result"
    }
   ],
   "source": [
    "obs = vec_envs.reset()\n",
    "dones = torch.tensor([False for _ in range(len(env_list))]).to(trainer.device)\n",
    "for iter in tqdm(range(restart_iter+1, trainer.config.train_steps), position=0, leave=True, desc='training_steps'):  \n",
    "    gc.collect(),torch.cuda.empty_cache()\n",
    "    if iter%trainer.config.train_every == 0:\n",
    "        train_metrics = trainer.train_batch(train_metrics, iter)\n",
    "        gc.collect(),torch.cuda.empty_cache()\n",
    "    if iter%trainer.config.slow_target_update == 0:\n",
    "        trainer.update_target()                \n",
    "    if iter%trainer.config.save_every == 0:\n",
    "        model_dir = config.model_dir\n",
    "        save_path = os.path.join(model_dir, 'models_latest')\n",
    "        trainer.save_model(iter)\n",
    "        trainer.buffer.save(save_path)\n",
    "        gc.collect(),torch.cuda.empty_cache()\n",
    "    with torch.no_grad():\n",
    "        embed = trainer.ObsEncoder(obs[0].to(trainer.device))\n",
    "        _, posterior_rssm_state = trainer.RSSM.rssm_observe(embed, prev_action, 1-dones.unsqueeze(1)*1, prev_rssmstate)\n",
    "        model_state = trainer.RSSM.get_model_state(posterior_rssm_state)\n",
    "        action, action_dist = trainer.ActionModel(torch.cat([model_state, obs[1].to(trainer.device)], dim=-1))\n",
    "        action = trainer.ActionModel.add_exploration(action, iter)\n",
    "        action = torch.stack(action, dim=1).detach().cpu()\n",
    "        a_d_list = []\n",
    "        for a_d in action_dist:\n",
    "            a_d_list.append(a_d.entropy().cpu())\n",
    "        for i_env in range(len(env_list)):\n",
    "            episode_actor_ent[i_env].append(torch.stack(a_d_list, dim=1).mean(dim=1)[i_env])\n",
    "    next_obs, rew, done, _ = vec_envs.step(action)\n",
    "    trainer.buffer.add((obs[0], obs[1]), action, rew, done)\n",
    "    for i_env in range(len(env_list)):\n",
    "        score[i_env] += rew[i_env]\n",
    "        if done[i_env]:\n",
    "            writer.add_scalar(f'train_rewards/{args.env_list[i_env]}', score[i_env], iter)\n",
    "            writer.add_scalar(f'action_ent/{args.env_list[i_env]}', torch.tensor(episode_actor_ent[i_env]).mean(), iter)\n",
    "            train_metrics['train_rewards'][i_env] = score[i_env]\n",
    "            train_metrics['action_ent'][i_env] =  torch.tensor(episode_actor_ent[i_env]).mean().cpu()\n",
    "            train_metrics['train_steps'][i_env] = iter\n",
    "            scores[i_env].append(score[i_env])\n",
    "            _s = vec_envs.vec_envs[i_env].reset(tokenizer=vec_envs.tokenizer, ocr=vec_envs.ocr, lm=vec_envs.lm, is_embed=True)\n",
    "            obs[0][i_env], obs[1][i_env], dones[i_env], score[i_env] = _s[0], _s[1], False, 0\n",
    "            prev_rssmstate.logit[i_env] = trainer.RSSM._init_rssm_state(1).logit\n",
    "            prev_rssmstate.stoch[i_env] = trainer.RSSM._init_rssm_state(1).stoch\n",
    "            prev_rssmstate.deter[i_env] = trainer.RSSM._init_rssm_state(1).deter\n",
    "            prev_action[i_env] = torch.zeros(1, trainer.action_size).to(trainer.device)\n",
    "            episode_actor_ent[i_env] = []\n",
    "        else:\n",
    "            obs[0][i_env], obs[1][i_env]= next_obs[0][i_env], next_obs[1][i_env]\n",
    "            prev_rssmstate.logit[i_env] = posterior_rssm_state.logit[i_env]\n",
    "            prev_rssmstate.stoch[i_env] = posterior_rssm_state.stoch[i_env]\n",
    "            prev_rssmstate.deter[i_env] = posterior_rssm_state.deter[i_env]\n",
    "            prev_action[i_env] = action[i_env]\n",
    "    if sum([len(s) for s in scores])>100*len(env_list):\n",
    "        [scores[i_env].pop(0) if len(scores[i_env])>100 else None for i_env in range(len(env_list))]\n",
    "        current_average = np.mean(scores).mean()\n",
    "        if current_average>best_mean_score:\n",
    "            best_mean_score = current_average \n",
    "            print('saving best model with mean score : ', best_mean_score)\n",
    "            save_dict = trainer.get_save_dict()\n",
    "            torch.save(save_dict, best_save_path)\n",
    "            del save_dict\n",
    "            gc.collect(),torch.cuda.empty_cache()\n",
    "    del embed, posterior_rssm_state, model_state, action, action_dist, a_d_list, next_obs, rew, done\n",
    "    gc.collect(),torch.cuda.empty_cache()\n",
    "'''evaluating probably best model'''\n",
    "evaluator.eval_saved_agent(vec_envs, best_save_path)"
   ]
  }
 ],
 "metadata": {
  "kernelspec": {
   "display_name": "web_con",
   "language": "python",
   "name": "python3"
  },
  "language_info": {
   "codemirror_mode": {
    "name": "ipython",
    "version": 3
   },
   "file_extension": ".py",
   "mimetype": "text/x-python",
   "name": "python",
   "nbconvert_exporter": "python",
   "pygments_lexer": "ipython3",
   "version": "3.8.18"
  }
 },
 "nbformat": 4,
 "nbformat_minor": 2
}
